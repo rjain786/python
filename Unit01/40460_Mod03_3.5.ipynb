{
 "cells": [
  {
   "cell_type": "markdown",
   "metadata": {},
   "source": [
    "# Section 3.5  \n",
    "## Conditionals, Type, and Mathematics Extended\n",
    "- Conditionals: `elif`  \n",
    "- Casting   \n",
    "- **Basic math operators**  \n",
    "\n",
    "-----\n",
    "\n",
    "### Student will be able to\n",
    "- Code more than two choices using `elif`  \n",
    "- Gather numeric input using type casting   \n",
    "- **Perform subtraction, multiplication and division operations in code** \n"
   ]
  },
  {
   "cell_type": "markdown",
   "metadata": {
    "collapsed": true
   },
   "source": [
    "## Concept: Basic Math Operators\n",
    "### `+` addition\n",
    "### `-` subtraction\n",
    "### `*` multiplication\n",
    "### `/` division  \n",
    "[![view video](https://iajupyterprodblobs.blob.core.windows.net/imagecontainer/common/play_video.png)]( http://edxinteractivepage.blob.core.windows.net/edxpages/f7cff1a7-5601-48a1-95a6-fd1fdfabd20e.html?details=[{\"src\":\"http://jupyternootbookwams.streaming.mediaservices.windows.net/5bc97f7e-3015-4178-ac20-371a5302def1/Unit1_Section5.2-Math-operators.ism/manifest\",\"type\":\"application/vnd.ms-sstr+xml\"}],[{\"src\":\"http://jupyternootbookwams.streaming.mediaservices.windows.net/5bc97f7e-3015-4178-ac20-371a5302def1/Unit1_Section5.2-Math-operators.vtt\",\"srclang\":\"en\",\"kind\":\"subtitles\",\"label\":\"english\"}])"
   ]
  },
  {
   "cell_type": "markdown",
   "metadata": {
    "collapsed": true
   },
   "source": [
    "### Examples"
   ]
  },
  {
   "cell_type": "code",
   "execution_count": 2,
   "metadata": {
    "collapsed": false
   },
   "outputs": [
    {
     "name": "stdout",
     "output_type": "stream",
     "text": [
      "3 + 5 = 8\n",
      "3 + 5 - 9 = -1\n",
      "48/9 = 5.333333333333333\n",
      "5*5 = 25\n",
      "(14 - 8)*(19/4) = 28.5\n"
     ]
    }
   ],
   "source": [
    "# [ ] review and run example\n",
    "print(\"3 + 5 =\",3 + 5)\n",
    "print(\"3 + 5 - 9 =\", 3 + 5 - 9)\n",
    "print(\"48/9 =\", 48/9)\n",
    "print(\"5*5 =\", 5*5)\n",
    "print(\"(14 - 8)*(19/4) =\", (14 - 8)*(19/4))"
   ]
  },
  {
   "cell_type": "code",
   "execution_count": 3,
   "metadata": {
    "collapsed": false
   },
   "outputs": [
    {
     "name": "stdout",
     "output_type": "stream",
     "text": [
      "Now you have 50000000\n"
     ]
    }
   ],
   "source": [
    "# [ ] review and run example - 'million_maker'\n",
    "def million_maker():\n",
    "    make_big = input(\"enter a non-decimal number you wish were bigger: \")\n",
    "    return int(make_big)*1000000\n",
    "\n",
    "print(\"Now you have\", million_maker())\n"
   ]
  },
  {
   "cell_type": "markdown",
   "metadata": {},
   "source": [
    "## Task 1: Use math operators to solve the set of tasks below"
   ]
  },
  {
   "cell_type": "code",
   "execution_count": 4,
   "metadata": {
    "collapsed": false
   },
   "outputs": [
    {
     "name": "stdout",
     "output_type": "stream",
     "text": [
      "43 - 15 = 28\n"
     ]
    }
   ],
   "source": [
    "# [ ] print the result of subtracting 15 from 43\n",
    "print(\"43 - 15 =\",43 - 15)"
   ]
  },
  {
   "cell_type": "code",
   "execution_count": 6,
   "metadata": {
    "collapsed": false
   },
   "outputs": [
    {
     "name": "stdout",
     "output_type": "stream",
     "text": [
      "15 * 43 = 645\n"
     ]
    }
   ],
   "source": [
    "# [ ] print the result of multiplying 15 and 43\n",
    "print(\"15 * 43 =\",15 * 43)"
   ]
  },
  {
   "cell_type": "code",
   "execution_count": 7,
   "metadata": {
    "collapsed": false
   },
   "outputs": [
    {
     "name": "stdout",
     "output_type": "stream",
     "text": [
      "156 / 12 = 13.0\n"
     ]
    }
   ],
   "source": [
    "# [ ] print the result of dividing 156 by 12\n",
    "print(\"156 / 12 =\", 156 / 12)"
   ]
  },
  {
   "cell_type": "code",
   "execution_count": 9,
   "metadata": {
    "collapsed": false
   },
   "outputs": [
    {
     "name": "stdout",
     "output_type": "stream",
     "text": [
      "21 / 0.5 = 42.0\n"
     ]
    }
   ],
   "source": [
    "# [ ] print the result of dividing 21 by 0.5\n",
    "print(\"21 / 0.5 =\", 21 / 0.5)"
   ]
  },
  {
   "cell_type": "code",
   "execution_count": 11,
   "metadata": {
    "collapsed": false
   },
   "outputs": [
    {
     "name": "stdout",
     "output_type": "stream",
     "text": [
      "(111 + 84) - 45 = 150\n"
     ]
    }
   ],
   "source": [
    "# [ ] print the result of adding 111 plus 84 and then subtracting 45\n",
    "print(\"(111 + 84) - 45 =\", (111 + 84) - 45)"
   ]
  },
  {
   "cell_type": "code",
   "execution_count": 12,
   "metadata": {
    "collapsed": false
   },
   "outputs": [
    {
     "name": "stdout",
     "output_type": "stream",
     "text": [
      "(21 + 4) * 4 = 100\n"
     ]
    }
   ],
   "source": [
    "# [ ] print the result of adding 21 and 4 and then multiplying that sum by 4\n",
    "print(\"(21 + 4) * 4 =\", (21 + 4) * 4)"
   ]
  },
  {
   "cell_type": "markdown",
   "metadata": {
    "collapsed": true
   },
   "source": [
    "## Task 2: Multiplying calculator function\n",
    "- Define function **`multiply()`**, and within the function:\n",
    "  - Get user input() of two *strings* made of whole numbers\n",
    "  - Cast the input to **`int()`**\n",
    "  - Multiply the integers and **return** the equation with result as a **`str()`**\n",
    "    - **return** example \n",
    "     ```python\n",
    "     9 * 13 = 117\n",
    "     ```"
   ]
  },
  {
   "cell_type": "code",
   "execution_count": 13,
   "metadata": {
    "collapsed": false
   },
   "outputs": [
    {
     "name": "stdout",
     "output_type": "stream",
     "text": [
      "40 * 20 = 800\n"
     ]
    }
   ],
   "source": [
    "# [ ] create and test multiply() function\n",
    "\n",
    "def multiply():\n",
    "    num1 = int(input(\"enter an integer: \"))\n",
    "    num2 = int(input(\"enter an integer: \"))\n",
    "    result = str(num1) + ' * ' + str(num2) + ' = ' + str(num1 * num2)\n",
    "    return result\n",
    "\n",
    "print(str(multiply()))"
   ]
  },
  {
   "cell_type": "markdown",
   "metadata": {
    "collapsed": true
   },
   "source": [
    "## Task 3: Improved multiplying calculator function\n",
    "### Putting together conditionals, input casting and math\n",
    "- #### Update the multiply() function to multiply or divide \n",
    "  - Single parameter is **`operator`** with arguments of **`*`** or **`/`** operator\n",
    "  - Default operator is \"*\" (multiply)\n",
    "  - **Return** the result of multiplication or division\n",
    "  - If operator other than **`\"*\"`** or **`\"/\"`**  then **` return \"Invalid Operator\"`**"
   ]
  },
  {
   "cell_type": "code",
   "execution_count": 14,
   "metadata": {
    "collapsed": false
   },
   "outputs": [
    {
     "name": "stdout",
     "output_type": "stream",
     "text": [
      "20 * 10 = 200\n",
      "30 * 40 = 1200\n",
      "20 / 40 = 0.5\n",
      "Invalid Operator\n"
     ]
    }
   ],
   "source": [
    "# [ ] create improved multiply() function and test with /, no argument, and an invalid operator ($)\n",
    "\n",
    "def multiply(operator = '*'):\n",
    "    num1 = int(input(\"enter an integer: \"))\n",
    "    num2 = int(input(\"enter an integer: \"))\n",
    "    if operator == '*':\n",
    "        return str(num1) + ' * ' + str(num2) + ' = ' + str(num1 * num2)\n",
    "    elif operator == '/':\n",
    "        return str(num1) + ' / ' + str(num2) + ' = ' + str(num1 / num2)\n",
    "    else:\n",
    "        return \"Invalid Operator\" \n",
    "\n",
    "print(str(multiply()))\n",
    "print(str(multiply('*')))\n",
    "print(str(multiply('/')))\n",
    "print(str(multiply('+')))"
   ]
  },
  {
   "cell_type": "markdown",
   "metadata": {},
   "source": [
    "## Task 4: Fix the errors"
   ]
  },
  {
   "cell_type": "code",
   "execution_count": 17,
   "metadata": {
    "collapsed": false
   },
   "outputs": [
    {
     "name": "stdout",
     "output_type": "stream",
     "text": [
      "George Congratulations, names starting with 'G' get to go second today!\n"
     ]
    }
   ],
   "source": [
    "# Review, run, fix \n",
    "student_name = input(\"enter name: \").capitalize()\n",
    "if student_name.startswith(\"F\"):\n",
    "    print(student_name,\"Congratulations, names starting with 'F' get to go first today!\")\n",
    "elif student_name.startswith(\"G\"):\n",
    "    print(student_name,\"Congratulations, names starting with 'G' get to go second today!\")\n",
    "else:\n",
    "    print(student_name, \"please wait for students with names staring with 'F' and 'G' to go first today.\")"
   ]
  },
  {
   "cell_type": "markdown",
   "metadata": {
    "collapsed": true
   },
   "source": [
    "[Terms of use](http://go.microsoft.com/fwlink/?LinkID=206977) &nbsp; [Privacy & cookies](https://go.microsoft.com/fwlink/?LinkId=521839) &nbsp; © 2017 Microsoft"
   ]
  }
 ],
 "metadata": {
  "anaconda-cloud": {},
  "kernelspec": {
   "display_name": "Python 3",
   "language": "python",
   "name": "python3"
  },
  "language_info": {
   "codemirror_mode": {
    "name": "ipython",
    "version": 3
   },
   "file_extension": ".py",
   "mimetype": "text/x-python",
   "name": "python",
   "nbconvert_exporter": "python",
   "pygments_lexer": "ipython3",
   "version": "3.8.13"
  },
  "vscode": {
   "interpreter": {
    "hash": "9ac03a0a6051494cc606d484d27d20fce22fb7b4d169f583271e11d5ba46a56e"
   }
  }
 },
 "nbformat": 4,
 "nbformat_minor": 1
}
