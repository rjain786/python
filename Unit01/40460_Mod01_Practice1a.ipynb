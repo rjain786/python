{
  "cells": [
    {
      "cell_type": "markdown",
      "metadata": {
        "collapsed": true
      },
      "source": [
        "# Lab 1a\n",
        "## Basics Practice: Notebooks, Comments, print(), type(), Addition, Errors and Art\n",
        "\n",
        "### Student will be able to\n",
        "- Use Python 3 in Jupyter notebooks\n",
        "- Write working code using `print()` and `#` comments  \n",
        "- Write working code using `type()` and variables\n",
        "- Combine Strings using string addition (+)\n",
        "- Add numbers in code (+)\n",
        "- Troubleshoot errors\n",
        "- Create character art  \n",
        "\n",
        ">**Note:** The **[ ]** indicates student has a task to complete.\n",
        "  \n",
        ">**Reminder:** To run code and save changes: student should upload or clone a copy of notebooks. \n",
        "\n",
        "#### Notebook use\n",
        "- [ ] Insert a **code cell** below   \n",
        "- [ ] Enter the following Python code, including the comment: \n",
        "```Python \n",
        "# [ ] print 'Hello!' and remember to save notebook!\n",
        "print('Hello!')\n",
        "```\n",
        "Then run the code - the output should be:  \n",
        "`Hello!`"
      ]
    },
    {
      "cell_type": "code",
      "execution_count": 2,
      "metadata": {
        "trusted": false
      },
      "outputs": [
        {
          "name": "stdout",
          "output_type": "stream",
          "text": [
            "Hello!\n"
          ]
        }
      ],
      "source": [
        "print(\"Hello!\")"
      ]
    },
    {
      "cell_type": "markdown",
      "metadata": {},
      "source": [
        "#### Run the cell below   \n",
        "- [ ] Use **Ctrl + Enter**  \n",
        "- [ ] Use **Shift + Enter**    "
      ]
    },
    {
      "cell_type": "code",
      "execution_count": 4,
      "metadata": {
        "trusted": false
      },
      "outputs": [
        {
          "name": "stdout",
          "output_type": "stream",
          "text": [
            "watch for the cat\n"
          ]
        }
      ],
      "source": [
        "print('watch for the cat')"
      ]
    },
    {
      "cell_type": "markdown",
      "metadata": {},
      "source": [
        "#### Student's Notebook editing\n",
        "- [ ] Edit **this** notebook Markdown cell replacing the word \"Student's\" above with your name\n",
        "- [ ] Run the cell to display the formatted text\n",
        "- [ ] Run any 'markdown' cells that are in edit mode, so they are easier to read"
      ]
    },
    {
      "cell_type": "markdown",
      "metadata": {},
      "source": [
        "#### [ ] Convert \\*this\\* cell from markdown to a code cell, then run it  \n",
        "print('Run as a code cell')\n"
      ]
    },
    {
      "cell_type": "markdown",
      "metadata": {},
      "source": [
        "##  # Comments\n",
        "Create a code comment that identifies this notebook, containing your name and the date."
      ]
    },
    {
      "cell_type": "code",
      "execution_count": 2,
      "metadata": {
        "collapsed": true,
        "trusted": false
      },
      "outputs": [
        {
          "name": "stdout",
          "output_type": "stream",
          "text": [
            "run as a code cell\n"
          ]
        }
      ],
      "source": [
        "print(\"run as a code cell\")\n",
        "# this will print the statement run as a code cell"
      ]
    },
    {
      "cell_type": "markdown",
      "metadata": {},
      "source": [
        "#### Use print() to \n",
        "- [ ] print [**your_name**]\n",
        "- [ ] print **is using Python!**"
      ]
    },
    {
      "cell_type": "code",
      "execution_count": 3,
      "metadata": {
        "trusted": false
      },
      "outputs": [
        {
          "name": "stdout",
          "output_type": "stream",
          "text": [
            "Richa Jain\n",
            "Richa Jain is using Python\n"
          ]
        }
      ],
      "source": [
        "# [ ] print your name\n",
        "print(\"Richa Jain\")\n",
        "\n",
        "# [ ] print \"is using Python\"\n",
        "print(\"Richa Jain is using Python\")"
      ]
    },
    {
      "cell_type": "markdown",
      "metadata": {},
      "source": [
        "Output above should be:  \n",
        "`Your Name  \n",
        "is using Python!`  "
      ]
    },
    {
      "cell_type": "markdown",
      "metadata": {},
      "source": [
        "#### Use variables in print()\n",
        "- [ ] Create a variable **your_name** and assign it a string containing your name\n",
        "- [ ] Print **your_name**"
      ]
    },
    {
      "cell_type": "code",
      "execution_count": 4,
      "metadata": {
        "collapsed": true,
        "trusted": false
      },
      "outputs": [
        {
          "name": "stdout",
          "output_type": "stream",
          "text": [
            "Richa Jain\n"
          ]
        }
      ],
      "source": [
        "# [ ] create a variable your_name and assign it a string containing your name\n",
        "your_name = \"Richa Jain\"\n",
        "\n",
        "#[ ] print your_name\n",
        "print(your_name)\n"
      ]
    },
    {
      "cell_type": "markdown",
      "metadata": {},
      "source": [
        "#### Create more string variables\n",
        "- **[ ]** Create variables as directed below\n",
        "- **[ ]** Print the variables"
      ]
    },
    {
      "cell_type": "code",
      "execution_count": 6,
      "metadata": {
        "trusted": false
      },
      "outputs": [
        {
          "name": "stdout",
          "output_type": "stream",
          "text": [
            "My favourite song is Bollywood songs\n",
            "My shoe size is 6\n",
            "My lucky number is 2\n"
          ]
        }
      ],
      "source": [
        "# [ ] create variables and assign values for: favorite_song, shoe_size, lucky_number\n",
        "favorite_song = input(\"Enter your favourite song: \")\n",
        "shoe_size = input(\"Enter our show size: \")\n",
        "lucky_number = input(\"Enter your lucky_number: \")\n",
        "\n",
        "# [ ] print the value of each variable favorite_song, shoe_size, and lucky_number\n",
        "print(\"My favourite song is\",favorite_song)\n",
        "print(\"My shoe size is\",shoe_size)\n",
        "print(\"My lucky number is\",lucky_number)"
      ]
    },
    {
      "cell_type": "markdown",
      "metadata": {},
      "source": [
        "#### Use string addition\n",
        "- **[ ]**  Print the above string variables (favorite_song, shoe_size, lucky_number) combined with a description by using **string addition**\n",
        ">For example, favorite_song displayed as:  \n",
        "`favorite song is happy birthday`"
      ]
    },
    {
      "cell_type": "code",
      "execution_count": 8,
      "metadata": {
        "trusted": false
      },
      "outputs": [
        {
          "name": "stdout",
          "output_type": "stream",
          "text": [
            "My favourite song is Bollywood songs\n",
            "My show size is 6\n",
            "My lucky number is 2\n"
          ]
        }
      ],
      "source": [
        "# [ ] print favorite_song with description\n",
        "print(\"My favourite song is\",favorite_song)\n",
        "\n",
        "# [ ] print shoe_size with description\n",
        "print(\"My show size is\",shoe_size)\n",
        "\n",
        "# [ ] print lucky_number with description\n",
        "print(\"My lucky number is\",lucky_number)"
      ]
    },
    {
      "cell_type": "markdown",
      "metadata": {},
      "source": [
        "##### More string addition\n",
        "- **[ ]** Make a single string (sentence) in a variable called favorite_lucky_shoe using **string addition** with favorite_song, shoe_size, lucky_number variables and other strings as needed \n",
        "- **[ ]** Print the value of the favorite_lucky_shoe variable string\n",
        "> Sample output:  \n",
        "`For singing happy birthday 8.5 times, you will be fined $25`"
      ]
    },
    {
      "cell_type": "code",
      "execution_count": 34,
      "metadata": {
        "trusted": false
      },
      "outputs": [
        {
          "name": "stdout",
          "output_type": "stream",
          "text": [
            "My lucky number is 2 which is not even close to my shoe size - 6. All I want now is Bollywood songs.\n"
          ]
        }
      ],
      "source": [
        "# assign favorite_lucky_shoe using\n",
        "favorite_lucky_shoe = \"My lucky number is \" + lucky_number + \" which is not even close to my shoe size - \" + shoe_size + \". All I want now is \" + favorite_song + '.'\n",
        "print(favorite_lucky_shoe)"
      ]
    },
    {
      "cell_type": "markdown",
      "metadata": {},
      "source": [
        "### print() art"
      ]
    },
    {
      "cell_type": "markdown",
      "metadata": {},
      "source": [
        "#### Use `print()` and the asterisk **\\*** to create the following shapes:\n",
        "- [ ] Diagonal line  \n",
        "- [ ] Rectangle  \n",
        "- [ ] Smiley face"
      ]
    },
    {
      "cell_type": "code",
      "execution_count": 35,
      "metadata": {
        "trusted": false
      },
      "outputs": [
        {
          "name": "stdout",
          "output_type": "stream",
          "text": [
            "*    \n",
            " *   \n",
            "  *  \n",
            "   * \n",
            "    *\n",
            "********************\n",
            "*                  *\n",
            "*                  *\n",
            "*                  *\n",
            "********************\n",
            "    .*****.    \n",
            "   *       *   \n",
            "  *         *  \n",
            " *           * \n",
            "*  O       O  *\n",
            "*             *\n",
            "*      /\\     *\n",
            "*             *\n",
            " *  \\_____/  * \n",
            "  *         *  \n",
            "   *       *   \n",
            "    '*****'    \n"
          ]
        }
      ],
      "source": [
        "# [ ] print a diagonal using \"*\"\n",
        "print(\"*    \")\n",
        "print(\" *   \")\n",
        "print(\"  *  \")\n",
        "print(\"   * \")\n",
        "print(\"    *\")\n",
        "\n",
        "# [ ] rectangle using \"*\"\n",
        "print(\"********************\")\n",
        "print(\"*                  *\")\n",
        "print(\"*                  *\")\n",
        "print(\"*                  *\")\n",
        "print(\"********************\")\n",
        "\n",
        "# [ ] smiley using \"*\"\n",
        "print(\"    .*****.    \")\n",
        "print(\"   *       *   \")\n",
        "print(\"  *         *  \")\n",
        "print(\" *           * \")\n",
        "print(\"*  O       O  *\")\n",
        "print(\"*             *\")\n",
        "print(\"*      /\\     *\")\n",
        "print(\"*             *\")\n",
        "print(\" *  \\_____/  * \")\n",
        "print(\"  *         *  \")\n",
        "print(\"   *       *   \")\n",
        "print(\"    '*****'    \")"
      ]
    },
    {
      "cell_type": "markdown",
      "metadata": {},
      "source": [
        "### Using `type()`\n",
        "#### Calculate the *type* using `type()`"
      ]
    },
    {
      "cell_type": "code",
      "execution_count": 36,
      "metadata": {
        "trusted": false
      },
      "outputs": [
        {
          "data": {
            "text/plain": [
              "str"
            ]
          },
          "execution_count": 36,
          "metadata": {},
          "output_type": "execute_result"
        }
      ],
      "source": [
        "# [ ] display the type of 'your name' (use single quotes)\n",
        "type('your name')"
      ]
    },
    {
      "cell_type": "code",
      "execution_count": 16,
      "metadata": {
        "trusted": false
      },
      "outputs": [
        {
          "data": {
            "text/plain": [
              "str"
            ]
          },
          "execution_count": 16,
          "metadata": {},
          "output_type": "execute_result"
        }
      ],
      "source": [
        "# [ ] display the type of \"save your notebook!\" (use double quotes)\n",
        "type(\"save your notebook!\")"
      ]
    },
    {
      "cell_type": "code",
      "execution_count": 17,
      "metadata": {
        "trusted": false
      },
      "outputs": [
        {
          "data": {
            "text/plain": [
              "str"
            ]
          },
          "execution_count": 17,
          "metadata": {},
          "output_type": "execute_result"
        }
      ],
      "source": [
        "# [ ] display the type of \"25\" (use quotes)\n",
        "type(\"25\")"
      ]
    },
    {
      "cell_type": "code",
      "execution_count": 18,
      "metadata": {
        "trusted": false
      },
      "outputs": [
        {
          "data": {
            "text/plain": [
              "str"
            ]
          },
          "execution_count": 18,
          "metadata": {},
          "output_type": "execute_result"
        }
      ],
      "source": [
        "# [ ] display the type of \"save your notebook \" + 'your name'\n",
        "type(\"save your notebook\" + 'Richa Jain')"
      ]
    },
    {
      "cell_type": "code",
      "execution_count": 19,
      "metadata": {
        "trusted": false
      },
      "outputs": [
        {
          "data": {
            "text/plain": [
              "int"
            ]
          },
          "execution_count": 19,
          "metadata": {},
          "output_type": "execute_result"
        }
      ],
      "source": [
        "# [ ] display the type of 25 (no quotes)\n",
        "type(25)"
      ]
    },
    {
      "cell_type": "code",
      "execution_count": 20,
      "metadata": {
        "trusted": false
      },
      "outputs": [
        {
          "data": {
            "text/plain": [
              "int"
            ]
          },
          "execution_count": 20,
          "metadata": {},
          "output_type": "execute_result"
        }
      ],
      "source": [
        "# [ ] display the type of 25 + 10 \n",
        "type(25+10)"
      ]
    },
    {
      "cell_type": "code",
      "execution_count": 21,
      "metadata": {
        "trusted": false
      },
      "outputs": [
        {
          "data": {
            "text/plain": [
              "float"
            ]
          },
          "execution_count": 21,
          "metadata": {},
          "output_type": "execute_result"
        }
      ],
      "source": [
        "# [ ] display the type of 1.55\n",
        "type(1.55)"
      ]
    },
    {
      "cell_type": "code",
      "execution_count": 22,
      "metadata": {
        "trusted": false
      },
      "outputs": [
        {
          "data": {
            "text/plain": [
              "float"
            ]
          },
          "execution_count": 22,
          "metadata": {},
          "output_type": "execute_result"
        }
      ],
      "source": [
        "# [ ] display the type of 1.55 + 25\n",
        "type(1.55 + 25)"
      ]
    },
    {
      "cell_type": "markdown",
      "metadata": {},
      "source": [
        "#### Find the type of variables\n",
        "- **[ ]** Run the cell below to make the variables available to be used in other code\n",
        "- **[ ]** Display the data type as directed in the cells that follow"
      ]
    },
    {
      "cell_type": "code",
      "execution_count": 37,
      "metadata": {
        "collapsed": true,
        "trusted": false
      },
      "outputs": [],
      "source": [
        "# assignments ***RUN THIS CELL*** before starting the section\n",
        "student_name = \"Gus\"\n",
        "student_age = 16\n",
        "student_grade = 3.5\n",
        "student_id = \"ABC-000-000\""
      ]
    },
    {
      "cell_type": "code",
      "execution_count": 38,
      "metadata": {
        "trusted": false
      },
      "outputs": [
        {
          "data": {
            "text/plain": [
              "str"
            ]
          },
          "execution_count": 38,
          "metadata": {},
          "output_type": "execute_result"
        }
      ],
      "source": [
        "# [ ] display the current type of the variable student_name\n",
        "type(student_name)"
      ]
    },
    {
      "cell_type": "code",
      "execution_count": 39,
      "metadata": {
        "trusted": false
      },
      "outputs": [
        {
          "data": {
            "text/plain": [
              "int"
            ]
          },
          "execution_count": 39,
          "metadata": {},
          "output_type": "execute_result"
        }
      ],
      "source": [
        "# [ ] display the type of student_age\n",
        "type(student_age)"
      ]
    },
    {
      "cell_type": "code",
      "execution_count": 40,
      "metadata": {
        "trusted": false
      },
      "outputs": [
        {
          "data": {
            "text/plain": [
              "float"
            ]
          },
          "execution_count": 40,
          "metadata": {},
          "output_type": "execute_result"
        }
      ],
      "source": [
        "# [ ] display the type of student_grade\n",
        "type(student_grade)"
      ]
    },
    {
      "cell_type": "code",
      "execution_count": 41,
      "metadata": {
        "trusted": false
      },
      "outputs": [
        {
          "data": {
            "text/plain": [
              "float"
            ]
          },
          "execution_count": 41,
          "metadata": {},
          "output_type": "execute_result"
        }
      ],
      "source": [
        "# [ ] display the type of student_age + student_grade\n",
        "type(student_age + student_grade)"
      ]
    },
    {
      "cell_type": "code",
      "execution_count": 42,
      "metadata": {
        "trusted": false
      },
      "outputs": [
        {
          "data": {
            "text/plain": [
              "str"
            ]
          },
          "execution_count": 42,
          "metadata": {},
          "output_type": "execute_result"
        }
      ],
      "source": [
        "# [ ] display the current type of student_id\n",
        "type(student_id)"
      ]
    },
    {
      "cell_type": "code",
      "execution_count": 43,
      "metadata": {
        "trusted": false
      },
      "outputs": [
        {
          "data": {
            "text/plain": [
              "str"
            ]
          },
          "execution_count": 43,
          "metadata": {},
          "output_type": "execute_result"
        }
      ],
      "source": [
        "# assign new value to student_id \n",
        "student_id = \"XYZ-100-001\"\n",
        "\n",
        "# [ ] display the current of student_id\n",
        "type(student_id)"
      ]
    },
    {
      "cell_type": "markdown",
      "metadata": {
        "collapsed": true
      },
      "source": [
        "#### Number integer addition\n",
        "\n",
        "- **[ ]** Create variables (x, y, z) with integer values"
      ]
    },
    {
      "cell_type": "code",
      "execution_count": 44,
      "metadata": {
        "collapsed": true,
        "trusted": false
      },
      "outputs": [],
      "source": [
        "# [ ] create integer variables (x, y, z) and assign them 1-3 digit integers (no decimals - no quotes)\n",
        "\n",
        "x = 1\n",
        "y = 2\n",
        "z = 3"
      ]
    },
    {
      "cell_type": "markdown",
      "metadata": {},
      "source": [
        "- **[ ]** Insert a **code cell** below\n",
        "- **[ ]** Create an integer variable named **xyz_sum** equal to the sum of x, y, and z\n",
        "- **[ ]** Print the value of **xyz_sum** "
      ]
    },
    {
      "cell_type": "code",
      "execution_count": 45,
      "metadata": {
        "trusted": false
      },
      "outputs": [
        {
          "name": "stdout",
          "output_type": "stream",
          "text": [
            "6\n"
          ]
        }
      ],
      "source": [
        "xyz_sum = (x + y + z)\n",
        "print(xyz_sum)"
      ]
    },
    {
      "cell_type": "markdown",
      "metadata": {},
      "source": [
        "### Errors\n",
        "- **[ ]** Troubleshoot and fix the errors below"
      ]
    },
    {
      "cell_type": "code",
      "execution_count": 27,
      "metadata": {
        "trusted": false
      },
      "outputs": [
        {
          "name": "stdout",
          "output_type": "stream",
          "text": [
            "Hello World!\n"
          ]
        }
      ],
      "source": [
        "# [ ] fix the error \n",
        "print(\"Hello World!\")   "
      ]
    },
    {
      "cell_type": "code",
      "execution_count": 24,
      "metadata": {
        "trusted": false
      },
      "outputs": [
        {
          "name": "stdout",
          "output_type": "stream",
          "text": [
            "strings have quotes and variables have names\n"
          ]
        }
      ],
      "source": [
        "# [ ] fix the error \n",
        "print(\"strings have quotes and variables have names\")"
      ]
    },
    {
      "cell_type": "code",
      "execution_count": 26,
      "metadata": {
        "collapsed": true,
        "trusted": false
      },
      "outputs": [
        {
          "name": "stdout",
          "output_type": "stream",
          "text": [
            "I have $5\n"
          ]
        }
      ],
      "source": [
        "# [ ] fix the error \n",
        "print( \"I have $\" + \"5\")"
      ]
    },
    {
      "cell_type": "code",
      "execution_count": 28,
      "metadata": {
        "trusted": false
      },
      "outputs": [
        {
          "name": "stdout",
          "output_type": "stream",
          "text": [
            "always save the notebook\n"
          ]
        }
      ],
      "source": [
        "# [ ] fix the error \n",
        "print('always save the notebook') \n"
      ]
    },
    {
      "cell_type": "markdown",
      "metadata": {
        "collapsed": true
      },
      "source": [
        "## ASCII art\n",
        "- **[ ]** Display first name or initials as ASCII Art\n",
        "- **[ ]** Challenge: insert an additional code cell to make an ASCII picture"
      ]
    },
    {
      "cell_type": "code",
      "execution_count": 46,
      "metadata": {
        "trusted": false
      },
      "outputs": [
        {
          "name": "stdout",
          "output_type": "stream",
          "text": [
            "*   *  ***  *  *    **  \n",
            "**  *   *   * *    *  * \n",
            "* * *   *   **    *    *\n",
            "*  **   *   * *    *  * \n",
            "*   *  ***  *  *    **  \n"
          ]
        }
      ],
      "source": [
        "# [ ] ASCII ART\n",
        "print(\"*   *  ***  *  *    **  \")\n",
        "print(\"**  *   *   * *    *  * \")\n",
        "print(\"* * *   *   **    *    *\")\n",
        "print(\"*  **   *   * *    *  * \")\n",
        "print(\"*   *  ***  *  *    **  \")"
      ]
    },
    {
      "cell_type": "code",
      "execution_count": 47,
      "metadata": {
        "trusted": false
      },
      "outputs": [
        {
          "name": "stdout",
          "output_type": "stream",
          "text": [
            "            ,---,_                      \n",
            "         ,''-o.  `.                     \n",
            "        (,----      `.                  \n",
            "             \\        \\                 \n",
            "             ;      __ --._             \n",
            "           '' \\` \\`-`,--._ `.           \n",
            "          /     ` ` /        `.         \n",
            "         : (       (           \\        \n",
            "         :  \\       \\           \\       \n",
            "          \\  \\       \\           \\      \n",
            "           \\  \\     , \\.          ;     \n",
            "            \\  \\   :   `:.        |     \n",
            "             `. \\  :    `::.     ,|     \n",
            "               ` \\  \\     \\ `---'  \\    \n",
            "                  :-|\\  __ `. `.`.  \\   \n",
            "                  | | `| '' `       \\  \n",
            "    __,------- ,--; |,-' |\\_.__\\      \\ \n",
            "  -           (  / (  /- |__    `. `-.- \n",
            "  --------------.__`_`     `-._  `-'    \n",
            "                      `--.__    `-.     \n",
            "                            `-.    `.   \n",
            "                               `.       \n"
          ]
        }
      ],
      "source": [
        "# [ ] ASCII ART\n",
        "print(\"            ,---,_                      \")\n",
        "print(\"         ,''-o.  `.                     \")\n",
        "print(\"        (,----      `.                  \")\n",
        "print(\"             \\        \\                 \")\n",
        "print(\"             ;      __ --._             \")\n",
        "print(\"           '' \\` \\`-`,--._ `.           \")\n",
        "print(\"          /     ` ` /        `.         \")\n",
        "print(\"         : (       (           \\        \")\n",
        "print(\"         :  \\       \\           \\       \")\n",
        "print(\"          \\  \\       \\           \\      \")\n",
        "print(\"           \\  \\     , \\.          ;     \")\n",
        "print(\"            \\  \\   :   `:.        |     \")\n",
        "print(\"             `. \\  :    `::.     ,|     \")\n",
        "print(\"               ` \\  \\     \\ `---'  \\    \")\n",
        "print(\"                  :-|\\  __ `. `.`.  \\   \")\n",
        "print(\"                  | | `| \\'' `       \\  \")\n",
        "print(\"    __,------- ,--; |,-' |\\_.__\\      \\ \")\n",
        "print(\"  -           (  / (  /- |__    `. `-.- \")\n",
        "print(\"  --------------.__`_`     `-._  `-'    \") \n",
        "print(\"                      `--.__    `-.     \") \n",
        "print(\"                            `-.    `.   \") \n",
        "print(\"                               `.       \")\n"
      ]
    },
    {
      "cell_type": "markdown",
      "metadata": {},
      "source": [
        "[Terms of use](http://go.microsoft.com/fwlink/?LinkID=206977) &nbsp; [Privacy & cookies](https://go.microsoft.com/fwlink/?LinkId=521839) &nbsp; © 2017 Microsoft"
      ]
    }
  ],
  "metadata": {
    "anaconda-cloud": {},
    "kernelspec": {
      "display_name": "Python 3",
      "language": "python",
      "name": "python3"
    },
    "language_info": {
      "codemirror_mode": {
        "name": "ipython",
        "version": 3
      },
      "file_extension": ".py",
      "mimetype": "text/x-python",
      "name": "python",
      "nbconvert_exporter": "python",
      "pygments_lexer": "ipython3",
      "version": "3.8.13"
    },
    "vscode": {
      "interpreter": {
        "hash": "110cc1dee26208153f2972f08a2ad52b6a56238dc66d48e87fb757ef2996db56"
      }
    }
  },
  "nbformat": 4,
  "nbformat_minor": 1
}
