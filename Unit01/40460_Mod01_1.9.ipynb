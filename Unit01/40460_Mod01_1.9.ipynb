{
  "cells": [
    {
      "cell_type": "markdown",
      "metadata": {
        "collapsed": true
      },
      "source": [
        "# Section 1.9\n",
        "## String Formatting and the 'in' Keyword\n",
        "- input() - gathering user input  \n",
        "- print() formatting   \n",
        "- Quotes inside strings \n",
        "- Boolean string tests methods   \n",
        "- **String formatting methods**  \n",
        "- **Formatting string input()**  \n",
        "- **Boolean `in` keyword**  \n",
        "\n",
        "-----\n",
        "\n",
        "### Student will be able to\n",
        "- Gather, store and use string `input()`  \n",
        "- Format `print()` output  \n",
        "- Test string characteristics  \n",
        "- **Format string output**  \n",
        "- **Search for a string in a string**  "
      ]
    },
    {
      "cell_type": "markdown",
      "metadata": {
        "collapsed": true
      },
      "source": [
        "## Concept: String Formatting Methods\n",
        "[![view video](https://iajupyterprodblobs.blob.core.windows.net/imagecontainer/common/play_video.png)]( http://edxinteractivepage.blob.core.windows.net/edxpages/f7cff1a7-5601-48a1-95a6-fd1fdfabd20e.html?details=[{\"src\":\"http://jupyternootbookwams.streaming.mediaservices.windows.net/693e416c-ab73-4387-a0d2-5a47668ae4de/Unit1_Section2-4-String-Format_Methods.ism/manifest\",\"type\":\"application/vnd.ms-sstr+xml\"}],[{\"src\":\"http://jupyternootbookwams.streaming.mediaservices.windows.net/693e416c-ab73-4387-a0d2-5a47668ae4de/Unit1_Section2-4-String-Format_Methods.vtt\",\"srclang\":\"en\",\"kind\":\"subtitles\",\"label\":\"english\"}])\n",
        "The following methods are applied to string objects:\n",
        "- **.capitalize()** - capitalizes the first character of a string\n",
        "- **.lower()** - all characters of a string are made lowercase\n",
        "- **.upper()** - all characters of a string are made uppercase\n",
        "- **.swapcase()** - all characters of a string are made to switch case upper becomes lower and vice versa  \n",
        "- **.title()** - each 'word' separated by a space is capitalized"
      ]
    },
    {
      "cell_type": "markdown",
      "metadata": {},
      "source": [
        "### Examples"
      ]
    },
    {
      "cell_type": "code",
      "execution_count": 1,
      "metadata": {
        "trusted": true
      },
      "outputs": [
        {
          "name": "stdout",
          "output_type": "stream",
          "text": [
            "Ms. browning is in her office.\n"
          ]
        }
      ],
      "source": [
        "print(\"ms. Browning is in her office.\".capitalize())"
      ]
    },
    {
      "cell_type": "code",
      "execution_count": 2,
      "metadata": {
        "trusted": true
      },
      "outputs": [
        {
          "name": "stdout",
          "output_type": "stream",
          "text": [
            "Green green green and GREEN!\n"
          ]
        }
      ],
      "source": [
        "fav_color = \"green\"\n",
        "print(fav_color.capitalize(), fav_color, fav_color,\"and\", fav_color.upper()+\"!\")"
      ]
    },
    {
      "cell_type": "markdown",
      "metadata": {},
      "source": [
        "## Task 1 (multi-part)\n",
        "- [ ] Format with `.capitalize(), .lower(), .upper(), .swapcase()`\n",
        "> **Note:** Use **print()**"
      ]
    },
    {
      "cell_type": "code",
      "execution_count": 1,
      "metadata": {
        "trusted": false
      },
      "outputs": [
        {
          "name": "stdout",
          "output_type": "stream",
          "text": [
            "PIZZA WITH PEPPER, ONION & OLIVES\n",
            "pizza with pepper, onion & olives\n",
            "pIZZA WITH PEPPER, ONION & OLIVES\n",
            "Pizza with pepper, onion & olives\n"
          ]
        }
      ],
      "source": [
        "# [ ] get input for a variable, fav_food, that describes a favorite food\n",
        "fav_food = input(\"Enter your favourite food with a little description: \")\n",
        "\n",
        "# [ ] display fav_food as ALL CAPS, used in a sentence\n",
        "print(fav_food.upper())\n",
        "\n",
        "# [ ] dispaly fav_food as all lower case, used in a sentence\n",
        "print(fav_food.lower())\n",
        "\n",
        "# [] display fav_food with swapped case, used in a sentence\n",
        "print(fav_food.swapcase())\n",
        "\n",
        "# [] display fav_food with capitalization, used in a sentence\n",
        "print(fav_food.capitalize())"
      ]
    },
    {
      "cell_type": "code",
      "execution_count": 3,
      "metadata": {
        "trusted": false
      },
      "outputs": [
        {
          "name": "stdout",
          "output_type": "stream",
          "text": [
            "FOREST GREEN forest green fOREST gREEN Forest green\n"
          ]
        }
      ],
      "source": [
        "fav_color = \"Forest Green\"\n",
        "# [] display the fav_color variable as upper, lower, swapcase, and capitalize formatting in a single print() statement\n",
        "print(fav_color.upper(),fav_color.lower(),fav_color.swapcase(),fav_color.capitalize())\n"
      ]
    },
    {
      "cell_type": "markdown",
      "metadata": {
        "collapsed": true
      },
      "source": [
        "## Concept: Formatting String Input()\n",
        "[![view video](https://iajupyterprodblobs.blob.core.windows.net/imagecontainer/common/play_video.png)]( http://edxinteractivepage.blob.core.windows.net/edxpages/f7cff1a7-5601-48a1-95a6-fd1fdfabd20e.html?details=[{\"src\":\"http://jupyternootbookwams.streaming.mediaservices.windows.net/460107d8-5d62-432e-924b-a3c779b2e5c5/Unit1_Section2-4-Input-String_Formatting.ism/manifest\",\"type\":\"application/vnd.ms-sstr+xml\"}],[{\"src\":\"http://jupyternootbookwams.streaming.mediaservices.windows.net/460107d8-5d62-432e-924b-a3c779b2e5c5/Unit1_Section2-4-Input-String_Formatting.vtt\",\"srclang\":\"en\",\"kind\":\"subtitles\",\"label\":\"english\"}])\n",
        "When storing input, sometimes a specific format is needed and formatting is applied to the **`input()`** function.\n",
        "> **Note:** this technique overwrites the original user input in the variable with the formatted value "
      ]
    },
    {
      "cell_type": "markdown",
      "metadata": {
        "collapsed": true
      },
      "source": [
        "### Example"
      ]
    },
    {
      "cell_type": "code",
      "execution_count": 1,
      "metadata": {
        "trusted": false
      },
      "outputs": [
        {
          "name": "stdout",
          "output_type": "stream",
          "text": [
            "red\n"
          ]
        }
      ],
      "source": [
        "# review and run code - test a capitalized color input\n",
        "fav_color = input('What is your favorite color?: ').lower()\n",
        "print(fav_color)"
      ]
    },
    {
      "cell_type": "markdown",
      "metadata": {},
      "source": [
        "## Task 2  \n",
        "### [ ] format &nbsp; ` input()` with ` .upper()`"
      ]
    },
    {
      "cell_type": "code",
      "execution_count": 2,
      "metadata": {
        "trusted": false
      },
      "outputs": [
        {
          "name": "stdout",
          "output_type": "stream",
          "text": [
            "BLUE\n"
          ]
        }
      ],
      "source": [
        "# [] input variable fav_color as upper\n",
        "fav_color = input(\"Enter your favourite color: \").upper()\n",
        "\n",
        "# [] print fav_color\n",
        "print(fav_color)"
      ]
    },
    {
      "cell_type": "markdown",
      "metadata": {
        "collapsed": true
      },
      "source": [
        "## Concept: Boolean `in` Keyword \n",
        "[![view video](https://iajupyterprodblobs.blob.core.windows.net/imagecontainer/common/play_video.png)]( http://edxinteractivepage.blob.core.windows.net/edxpages/f7cff1a7-5601-48a1-95a6-fd1fdfabd20e.html?details=[{\"src\":\"http://jupyternootbookwams.streaming.mediaservices.windows.net/ef7e8587-8ce6-48a4-9a2f-fb0a09db287f/Unit1_Section2-4-Boolean-in.ism/manifest\",\"type\":\"application/vnd.ms-sstr+xml\"}],[{\"src\":\"http://jupyternootbookwams.streaming.mediaservices.windows.net/ef7e8587-8ce6-48a4-9a2f-fb0a09db287f/Unit1_Section2-4-Boolean-in.vtt\",\"srclang\":\"en\",\"kind\":\"subtitles\",\"label\":\"english\"}])\n",
        "The **`in`** keyword can be used as a simple search returning **`True`** or **`False`** indication if a string is included in a target sequence.  \n",
        "### Comparing strings is case sensitive\n",
        "`'Hello'` is not the same as `'hello'`  "
      ]
    },
    {
      "cell_type": "markdown",
      "metadata": {},
      "source": [
        "### Examples"
      ]
    },
    {
      "cell_type": "code",
      "execution_count": 3,
      "metadata": {
        "scrolled": true,
        "trusted": false
      },
      "outputs": [
        {
          "name": "stdout",
          "output_type": "stream",
          "text": [
            "True\n"
          ]
        }
      ],
      "source": [
        "# review and run code to test if a string is to be found in another string\n",
        "menu = \"salad, pasta, sandwich, pizza, drinks, dessert\"\n",
        "print('pizza' in menu)"
      ]
    },
    {
      "cell_type": "code",
      "execution_count": 4,
      "metadata": {
        "trusted": true
      },
      "outputs": [
        {
          "name": "stdout",
          "output_type": "stream",
          "text": [
            "'hello' in greeting =  False\n",
            "'Hello' in greeting =  True\n"
          ]
        }
      ],
      "source": [
        "# review and run code to test case sensitive examples \n",
        "greeting = \"Hello World!\"\n",
        "print(\"'hello' in greeting = \",'hello' in greeting)\n",
        "print(\"'Hello' in greeting = \", 'Hello' in greeting)"
      ]
    },
    {
      "cell_type": "markdown",
      "metadata": {},
      "source": [
        "Example below: **Remove case sensitivity from a string comparison**"
      ]
    },
    {
      "cell_type": "code",
      "execution_count": 5,
      "metadata": {
        "collapsed": true,
        "trusted": false
      },
      "outputs": [
        {
          "name": "stdout",
          "output_type": "stream",
          "text": [
            "'hello' in greeting =  False\n",
            "'Hello' in greeting =  True\n",
            "'hello' in greeting if lower used =  True\n"
          ]
        }
      ],
      "source": [
        "# review and run code to test removing case sensitivity from a string comparison\n",
        "greeting = \"Hello World!\"\n",
        "print(\"'hello' in greeting = \",'hello' in greeting)\n",
        "print(\"'Hello' in greeting = \", 'Hello' in greeting)\n",
        "print(\"'hello' in greeting if lower used = \", 'hello'.lower() in greeting.lower())"
      ]
    },
    {
      "cell_type": "markdown",
      "metadata": {},
      "source": [
        "## Task 3: multi-part\n",
        "**[ ] Add code below** testing the **`menu`** string variable for `'pizza'`, `'soup'`, and `'dessert'` using keyword **`in`**\n",
        "- Print each test on a separate line\n",
        "- Print a description for each test (e.g. - \"`Pizza in menu = True`\")"
      ]
    },
    {
      "cell_type": "code",
      "execution_count": 14,
      "metadata": {
        "trusted": false
      },
      "outputs": [
        {
          "name": "stdout",
          "output_type": "stream",
          "text": [
            "True\n",
            "Pizza in menu =  True\n",
            "False\n",
            "Soup in menu False\n",
            "True\n",
            "Dessert in menu True\n"
          ]
        }
      ],
      "source": [
        "# [] print 3 tests, with description text, testing the menu variable for 'pizza', 'soup' and 'dessert'\n",
        "menu = \"salad, pasta, sandwich, pizza, drinks, dessert\"\n",
        "print('pizza' in menu)\n",
        "print(\"Pizza in menu = \",'pizza' in menu)\n",
        "\n",
        "print('soup' in menu)\n",
        "print(\"Soup in menu\",'soup' in menu)\n",
        "\n",
        "print('dessert' in menu)\n",
        "print(\"Dessert in menu\",'dessert' in menu)"
      ]
    },
    {
      "cell_type": "markdown",
      "metadata": {},
      "source": [
        "## Program: What is on the menu?\n",
        "### [ ] Create a program where a user can check if an item is on the menu\n",
        "- store the user response in a variable menu_ask\n",
        "- use the menu from above and add some additional items\n",
        "- the program should be able to ignore case mismatch so that \"hello\" is found in \"Hello World!\""
      ]
    },
    {
      "cell_type": "code",
      "execution_count": 32,
      "metadata": {
        "trusted": false
      },
      "outputs": [
        {
          "name": "stdout",
          "output_type": "stream",
          "text": [
            "Pizza in menu = True\n"
          ]
        }
      ],
      "source": [
        "# Create a program where the user supplies input to search the menu\n",
        "menu_ask = input(\"enter food and we try to find it in our menu: \")\n",
        "menu = \"salad, pasta, sandwich, pizza, drinks, dessert, falafel, doner kebab, french fries\"\n",
        "\n",
        "print(menu_ask, \"in menu =\", menu_ask.lower() in menu.lower())"
      ]
    },
    {
      "cell_type": "markdown",
      "metadata": {},
      "source": [
        "### [ ] Challenge: Add to the menu\n",
        "- print the current menu\n",
        "- get user input for add_item variable\n",
        "- new_menu use string addition to add add_item to menu\n",
        "- print the new_menu\n",
        "testing\n",
        "- add a cell below add menu\n",
        "- check if an item is on the menu, check for previous items and the item you added"
      ]
    },
    {
      "cell_type": "code",
      "execution_count": null,
      "metadata": {
        "trusted": false
      },
      "outputs": [],
      "source": [
        "# add to menu\n",
        "\n"
      ]
    },
    {
      "cell_type": "code",
      "execution_count": null,
      "metadata": {
        "trusted": false
      },
      "outputs": [],
      "source": [
        "# Testing Add to Menu - create user input to search for an item on the new menu\n",
        "\n"
      ]
    },
    {
      "cell_type": "markdown",
      "metadata": {},
      "source": [
        "## Task 4: Fix the error"
      ]
    },
    {
      "cell_type": "code",
      "execution_count": null,
      "metadata": {
        "trusted": false
      },
      "outputs": [],
      "source": [
        "# [ ] fix the error\n",
        "paint_colors = \"red, blue, green, black, orange, pink\"\n",
        "print('Red in paint colors = ',red in paint_colors)\n",
        "\n"
      ]
    },
    {
      "cell_type": "markdown",
      "metadata": {
        "collapsed": true
      },
      "source": [
        "[Terms of use](http://go.microsoft.com/fwlink/?LinkID=206977) &nbsp; [Privacy & cookies](https://go.microsoft.com/fwlink/?LinkId=521839) &nbsp; © 2017 Microsoft"
      ]
    }
  ],
  "metadata": {
    "anaconda-cloud": {},
    "kernelspec": {
      "display_name": "Python 3",
      "language": "python",
      "name": "python3"
    },
    "language_info": {
      "codemirror_mode": {
        "name": "ipython",
        "version": 3
      },
      "file_extension": ".py",
      "mimetype": "text/x-python",
      "name": "python",
      "nbconvert_exporter": "python",
      "pygments_lexer": "ipython3",
      "version": "3.8.13"
    },
    "vscode": {
      "interpreter": {
        "hash": "110cc1dee26208153f2972f08a2ad52b6a56238dc66d48e87fb757ef2996db56"
      }
    }
  },
  "nbformat": 4,
  "nbformat_minor": 1
}
