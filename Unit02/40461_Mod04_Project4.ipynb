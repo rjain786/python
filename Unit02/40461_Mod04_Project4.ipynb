{
 "cells": [
  {
   "cell_type": "markdown",
   "metadata": {},
   "source": [
    "\n",
    "#  Module 4 Project  \n",
    "\n",
    "Course 40461: Introduction to Python, Unit 2\n",
    "\n",
    "This is an activity based on the Module 4 Lab, which you may have already completed.\n",
    "\n",
    "| **Assignment Requirements** |  \n",
    "|:-------------------------------|  \n",
    "| **NOTE:** This program requires **`print`** output and code syntax used in Module 4 such as variable assignment, **`input`**, **`while`**, **`open`** keywords,  **`.split()`**, **`.readline()`**, **`.seek()`**, **`.write()`**, **`.close()`** methods.  |  \n",
    "\n",
    "## The Weather\n",
    "#### Create a program that:  \n",
    "- Imports and opens a file  \n",
    "- Appends additional data to a file  \n",
    "- Reads from the file to displays each city name and month average high temperature in Celsius  \n",
    "\n",
    "**Output:** The output should resemble the following\n",
    "```\n",
    "City of Beijing month ave: highest high is 30.9 Celsius\n",
    "City of Cairo month ave: highest high is 34.7 Celsius\n",
    "City of London month ave: highest high is 23.5 Celsius\n",
    "City of Nairobi month ave: highest high is 26.3 Celsius\n",
    "City of New York City month ave: highest high is 28.9 Celsius\n",
    "City of Sydney month ave: highest high is 26.5 Celsius\n",
    "City of Tokyo month ave: highest high is 30.8 Celsius\n",
    "City of Rio De Janeiro month ave: highest high is 30.0 Celsius\n",
    "```  \n",
    "All of the above text output is generated from the file.\n",
    "Only these strings are *hard coded*:  \n",
    "- \"is\"  \n",
    "- \"of\"  \n",
    "- \"Celsius\"  \n",
    "\n",
    "\n",
    "\n",
    "### Import the file into the Jupyter Notebook environment   \n",
    "- Use `!curl` to download https://raw.githubusercontent.com/MicrosoftLearning/intropython/master/world_temp_mean.csv as `mean_temp.txt`  \n",
    "  \n",
    "\n",
    "```python\n",
    "# [ ] The Weather: import world_mean_team.csv as mean_temp.txt into the Jupyter notebook\n",
    "\n",
    "\n",
    "```  \n",
    "\n",
    "#### Add the weather for Rio  \n",
    "1. Open the file in append plus mode (**`'a+'`**)  \n",
    "2. Write a new line for Rio de Janeiro `\"\\nRio de Janeiro,Brazil,30.0,18.0\"`  \n",
    "\n",
    "\n",
    "#### Grab the column headings  \n",
    "1. Use .seek() to move the pointer to the beginning of the file  \n",
    "2. Read the first line of text into a variable called: `headings`     \n",
    "3. Convert `headings` to a list using **`.split(',')`** which splits on each comma  \n",
    "\n",
    "\n",
    "```python\n",
    "# [ ] The Weather: open file, read/print first line, convert line to list (splitting on comma)\n",
    "\n",
    "\n",
    "```\n",
    "\n",
    "#### Read the remaining lines from the file using a while loop\n",
    "  1. Assign remaining lines to a **`city_temp`** variable  \n",
    "  2. Convert the city_temp to a list using **`.split(',')`** for each **`.readline()`** in the loop  \n",
    "  3. Print each city & the highest monthly average temperature   \n",
    "  4. Close mean_temps\n",
    "\n",
    ">Tips & Hints:   \n",
    "- Print **`headings`** to determine indexes to use for the final output (what is in headings[0], [1], [2]..?)  \n",
    "- The city_temp data follows the order of the headings (city_temp[0] is described by headings[0]) \n",
    "- The output should look like: **`\"month ave: highest high\" for Beijing is 30.9 Celsius`**  \n",
    "- Convert `city_temp` to lists with `.split(',')`  \n",
    "\n",
    "\n",
    "```python\n",
    "# [ ] The Weather: use while loop to print city and highest monthly average temp in celsius\n",
    "\n",
    "\n",
    "```\n",
    "\n",
    "\n"
   ]
  },
  {
   "cell_type": "code",
   "execution_count": 1,
   "metadata": {},
   "outputs": [
    {
     "name": "stdout",
     "output_type": "stream",
     "text": [
      "  % Total    % Received % Xferd  Average Speed   Time    Time     Time  Current\n",
      "                                 Dload  Upload   Total   Spent    Left  Speed\n",
      "100   222  100   222    0     0   1156      0 --:--:-- --:--:-- --:--:--  1156\n"
     ]
    }
   ],
   "source": [
    "!curl https://raw.githubusercontent.com/MicrosoftLearning/intropython/master/world_temp_mean.csv -o mean_temp.txt"
   ]
  },
  {
   "cell_type": "code",
   "execution_count": 2,
   "metadata": {
    "collapsed": true
   },
   "outputs": [
    {
     "name": "stdout",
     "output_type": "stream",
     "text": [
      "City of Beijing month ave: highest high is 30.9 Celcius\n",
      "City of Cairo month ave: highest high is 34.7 Celcius\n",
      "City of London month ave: highest high is 23.5 Celcius\n",
      "City of Nairobi month ave: highest high is 26.3 Celcius\n",
      "City of New York City month ave: highest high is 28.9 Celcius\n",
      "City of Sydney month ave: highest high is 26.5 Celcius\n",
      "City of Tokyo month ave: highest high is 30.8 Celcius\n"
     ]
    }
   ],
   "source": [
    "# [] create The Weather\n",
    "\n",
    "mean_temp_text = open('mean_temp.txt', 'a+')\n",
    "mean_temp_text.write('\\nRio de Janeiro,Brazil,30.0,18.0')\n",
    "\n",
    "mean_temp_text.seek(0,0)\n",
    "headings = mean_temp_text.readline()\n",
    "headings = headings.split(',')\n",
    "\n",
    "city_temp = mean_temp_text.readline().strip('\\n')\n",
    "\n",
    "while city_temp:\n",
    "    city_temp = city_temp.split(',')\n",
    "    print('City of',city_temp[0],headings[2],'is', city_temp[2], \"Celcius\")\n",
    "    city_temp = mean_temp_text.readline().strip('\\n')\n",
    "\n",
    "mean_temp_text.close()"
   ]
  },
  {
   "cell_type": "markdown",
   "metadata": {},
   "source": [
    "[Terms of use](http://go.microsoft.com/fwlink/?LinkID=206977) &nbsp; [Privacy & cookies](https://go.microsoft.com/fwlink/?LinkId=521839) &nbsp; © 2017 Microsoft"
   ]
  }
 ],
 "metadata": {
  "anaconda-cloud": {},
  "kernelspec": {
   "display_name": "Python 3",
   "language": "python",
   "name": "python3"
  },
  "language_info": {
   "codemirror_mode": {
    "name": "ipython",
    "version": 3
   },
   "file_extension": ".py",
   "mimetype": "text/x-python",
   "name": "python",
   "nbconvert_exporter": "python",
   "pygments_lexer": "ipython3",
   "version": "3.8.13 (default, Dec 30 2022, 16:12:50) \n[GCC 9.4.0]"
  },
  "vscode": {
   "interpreter": {
    "hash": "9ac03a0a6051494cc606d484d27d20fce22fb7b4d169f583271e11d5ba46a56e"
   }
  }
 },
 "nbformat": 4,
 "nbformat_minor": 0
}
