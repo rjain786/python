{
 "cells": [
  {
   "cell_type": "markdown",
   "metadata": {},
   "source": [
    "# Module 4 Lab\n",
    "## Working with Files Practice\n",
    "\n",
    "-----\n",
    "\n",
    "### Student will be able to\n",
    " \n",
    "- Import files into Jupyter Notebooks  \n",
    "- Open and **`.read()`** local files in memory   \n",
    "- **`.read()`** a specific number of characters  \n",
    "- Use **`.readlines()`** to read data from file as a **list** of lines  \n",
    "- Use **`.readlines()`** to read data from file as a **list** of lines   \n",
    "- Use **`.readline()`** to read data from file a line at a time   \n",
    "- Use **`.strip()`** to remove new line characters  \n",
    "- `.write()` data to a new local file  \n",
    "- Use **`.seek()`** to set file read or write location  \n",
    "- Use file append mode  "
   ]
  },
  {
   "cell_type": "markdown",
   "metadata": {
    "collapsed": true
   },
   "source": [
    "## Task 1: Order the Rainbow\n",
    "#### Open the rainbow file, then put in a list and print in alphabetical order\n",
    "Download and open the file  \n",
    "- Download list of rainbow colors, as `rainbow.txt`, using `curl` \n",
    "  https://raw.githubusercontent.com/MicrosoftLearning/intropython/master/rainbow. \n",
    "- Open rainbow.txt in read mode using a variable: rainbow_file.\n",
    " "
   ]
  },
  {
   "cell_type": "code",
   "execution_count": 1,
   "metadata": {
    "collapsed": false
   },
   "outputs": [
    {
     "name": "stdout",
     "output_type": "stream",
     "text": [
      "  % Total    % Received % Xferd  Average Speed   Time    Time     Time  Current\n",
      "                                 Dload  Upload   Total   Spent    Left  Speed\n",
      "100    43  100    43    0     0    194      0 --:--:-- --:--:-- --:--:--   194\n"
     ]
    }
   ],
   "source": [
    "# [ ] import https://raw.githubusercontent.com/MicrosoftLearning/intropython/master/rainbow as rainbow.txt\n",
    "\n",
    "!curl https://raw.githubusercontent.com/MicrosoftLearning/intropython/master/rainbow -o rainbow.txt"
   ]
  },
  {
   "cell_type": "markdown",
   "metadata": {},
   "source": [
    "\n",
    "- Read rainbow_file as a list variable: rainbow_colors using `.readlines()`.    \n"
   ]
  },
  {
   "cell_type": "code",
   "execution_count": 5,
   "metadata": {
    "collapsed": false
   },
   "outputs": [],
   "source": [
    "# [ ]  Open rainbow.txt in read mode & read as list with .readlines()\n",
    "rainbow_file = open(\"rainbow.txt\",\"r\")\n",
    "\n",
    "rainbow_lines = rainbow_file.readlines()"
   ]
  },
  {
   "cell_type": "markdown",
   "metadata": {},
   "source": [
    "1. Sort the rainbow_lines list alphabetically.\n",
    "2. Print each line of rainbow_lines by iterating the sorted list.\n",
    "3. Close rainbow_file."
   ]
  },
  {
   "cell_type": "code",
   "execution_count": 6,
   "metadata": {
    "collapsed": false
   },
   "outputs": [
    {
     "name": "stdout",
     "output_type": "stream",
     "text": [
      "blue\n",
      "\n",
      "green\n",
      "\n",
      "indigo\n",
      "\n",
      "orange\n",
      "\n",
      "red\n",
      "\n",
      "violet\n",
      "\n",
      "yellow\n",
      "\n"
     ]
    }
   ],
   "source": [
    "# [ ] sort rainbow_colors list, iterate the list to print each color\n",
    "rainbow_lines.sort()\n",
    "\n",
    "for color in rainbow_lines:\n",
    "    print(color)\n",
    "\n",
    "rainbow_file.close()"
   ]
  },
  {
   "cell_type": "markdown",
   "metadata": {
    "collapsed": true
   },
   "source": [
    "## Task 2: The Weather\n",
    "Create a program that reads from a file to display city name and average temperature in Celsius. \n",
    "\n",
    "- Use `!curl` to download https://raw.githubusercontent.com/MicrosoftLearning/intropython/master/world_temp_mean.csv as `mean_temp.txt`.  \n",
    "  \n"
   ]
  },
  {
   "cell_type": "code",
   "execution_count": 7,
   "metadata": {
    "collapsed": false
   },
   "outputs": [
    {
     "name": "stdout",
     "output_type": "stream",
     "text": [
      "  % Total    % Received % Xferd  Average Speed   Time    Time     Time  Current\n",
      "                                 Dload  Upload   Total   Spent    Left  Speed\n",
      "100   222  100   222    0     0   1620      0 --:--:-- --:--:-- --:--:--  1620\n"
     ]
    }
   ],
   "source": [
    "# [ ] The Weather: import world_mean_team.csv as mean_temp.txt\n",
    "!curl https://raw.githubusercontent.com/MicrosoftLearning/intropython/master/world_temp_mean.csv -o mean_temp.txt"
   ]
  },
  {
   "cell_type": "markdown",
   "metadata": {},
   "source": [
    "1. Open the file in `'r'` mode.  \n",
    "2. Read the first line of text into a variable called: `  headings` and `print()`.    \n",
    "3. Convert `headings` to a list using **`.split(',')`** which splits on each comma, `print()` the list.  "
   ]
  },
  {
   "cell_type": "code",
   "execution_count": 8,
   "metadata": {
    "collapsed": false
   },
   "outputs": [
    {
     "name": "stdout",
     "output_type": "stream",
     "text": [
      "city,country,month ave: highest high,month ave: lowest low\n",
      "\n",
      "['city', 'country', 'month ave: highest high', 'month ave: lowest low\\n']\n"
     ]
    }
   ],
   "source": [
    "# [ ] The Weather: open file, read/print first line, convert line to list (splitting on comma)\n",
    "mean_temp = open(\"mean_temp.txt\",\"r\")\n",
    "headings = mean_temp.readline()\n",
    "print(headings)\n",
    "\n",
    "headings = headings.split(',')\n",
    "print(headings)\n",
    "\n",
    "# [ In this code, the mean_temp.txt file is opened in 'r' mode with the open() method. The file is read line by \n",
    "# line with the readline() method and then the contents of the file are printed. The file contents are converted \n",
    "# into a list of items using the split() method. The created list is printed. ] The Weather: open file, read/print \n",
    "#first line, convert line to list (splitting on comma)"
   ]
  },
  {
   "cell_type": "markdown",
   "metadata": {},
   "source": [
    "#### Use a while loop to read the remaining lines from the file  \n",
    "  1. Assign remainging lines to a **`city_temp`** variable.  \n",
    "  2. Convert the city_temp to a list using **`.split(',')`** for each **`.readline()`** in the loop.  \n",
    "  3. Print each city & the highest monthly average temperature.   \n",
    "  4. Close mean_temps.\n",
    "\n",
    ">Tips & Hints:   \n",
    "- Use the print output of **`headings`** to determine the city_temp indexes to use.  \n",
    "- \"month ave: highest high\" for Bejing is 30.9 Celsius.\n",
    "- Convert `city_temp` to lists with `.split(',')`.\n"
   ]
  },
  {
   "cell_type": "code",
   "execution_count": 9,
   "metadata": {
    "collapsed": false
   },
   "outputs": [
    {
     "name": "stdout",
     "output_type": "stream",
     "text": [
      "Beijing: 30.9\n",
      "Cairo: 34.7\n",
      "London: 23.5\n",
      "Nairobi: 26.3\n",
      "New York City: 28.9\n",
      "Sydney: 26.5\n",
      "Tokyo: 30.8\n"
     ]
    }
   ],
   "source": [
    "# [ ] The Weather: use while loop to print city and highest monthly average temp in celsius\n",
    "# In this code, the mean_temp file is read line by line each saved as a string. Then, a while loop is used\n",
    "# to print each city with its highest monthly average temp. To do this, a list was created with the strings\n",
    "# of the mean_temp file. The file is closed.\n",
    "\n",
    "city_temp = mean_temp.readline()\n",
    "\n",
    "while city_temp:\n",
    "     city_list = city_temp.split(',')\n",
    "     print(city_list[0] + \": \" + city_list[2])\n",
    "     city_temp = mean_temp.readline()\n",
    "\n",
    "mean_temp.close()"
   ]
  },
  {
   "cell_type": "markdown",
   "metadata": {
    "collapsed": true
   },
   "source": [
    "## Task 3: Random pi  guessing\n",
    "Create random appearing numbers by reading digits of pi.\n",
    "*Note: Numbers only \"appear\" random.*\n",
    "\n",
    "- Download https://raw.githubusercontent.com/MicrosoftLearning/intropython/master/digits_of_pi as pi.txt."
   ]
  },
  {
   "cell_type": "code",
   "execution_count": 10,
   "metadata": {
    "collapsed": false
   },
   "outputs": [
    {
     "name": "stdout",
     "output_type": "stream",
     "text": [
      "  % Total    % Received % Xferd  Average Speed   Time    Time     Time  Current\n",
      "                                 Dload  Upload   Total   Spent    Left  Speed\n",
      "100   303  100   303    0     0   1257      0 --:--:-- --:--:-- --:--:--  1257\n"
     ]
    }
   ],
   "source": [
    "# [ ] use curl to download https://raw.githubusercontent.com/MicrosoftLearning/intropython/master/digits_of_pi as pi.txt\n",
    "!curl https://raw.githubusercontent.com/MicrosoftLearning/intropython/master/digits_of_pi -o pi.txt"
   ]
  },
  {
   "cell_type": "markdown",
   "metadata": {},
   "source": [
    "#### Set up the project files and intitial values  \n",
    "1. Open pi.tx in read mode, the file has a single line of text \"3.14....\".  \n",
    "2. Get user name as input and say \"hi\".\n",
    "3. Use the length of `name` for variable called `seed`.\n",
    "4. Use `.seek()` with the value of `seed` to set the initial pointer location reading the file.\n",
    "5. Create a variable `digit` and assign it the value of reading one character from the file.\n",
    "6. Get `guess` variable value from users `input`  - \"enter a single digit guess or \"q\" to quit\".\n",
    "7. Initialize `correct` and `wrong` counter variables to **`0`**  (zero)."
   ]
  },
  {
   "cell_type": "code",
   "execution_count": 16,
   "metadata": {
    "collapsed": false
   },
   "outputs": [
    {
     "name": "stdout",
     "output_type": "stream",
     "text": [
      "Hi, Richa!\n"
     ]
    }
   ],
   "source": [
    "# [ ] Set up the project files and initial values\n",
    "# In this code, the pi_file is opened in read mode with the open() method. Then, the user is asked to enter \n",
    "# his/her name. Then the lenght of the name is stored in the variable seed. The pointer is moved to the value of\n",
    "# seed using the seek() method.The variable digit contains the value the user is asked to guess. The variables \n",
    "# correct and incorrect are initialized at 0.\n",
    "\n",
    "pi_file = open(\"pi.txt\", \"r\")\n",
    "\n",
    "user_name = input(\"Enter your name: \")\n",
    "print(\"Hi, \" + user_name.capitalize() + \"!\")\n",
    "\n",
    "seed = len(user_name)\n",
    "pi_file.seek(seed)\n",
    "\n",
    "digit = pi_file.read(1)\n",
    "guess = input('Enter a single digit guess or \"q\" to quit: ')\n",
    "correct = 0\n",
    "wrong = 0 "
   ]
  },
  {
   "cell_type": "markdown",
   "metadata": {},
   "source": [
    "#### Create a while loop that tests that `guess` is a *digit* string\n",
    "Then in the loop:\n",
    "1. If `digit` ( read from pi file) is \"**.**\" read the next character for digit.\n",
    "2. Else if `digit` is \"\\n\" increment `seed` and use `seed` to set the pointer uing .`seek()`.\n",
    "3. Else see if `guess` is equal to `digit`.\n",
    "  a. If `guess` equals `digit`: print \"correct\" and increment the varible named `correct`.\n",
    "  b. If `guess` not equal `digit`: print \"incorrect\" and increment the variable named `wrong`.\n",
    "  \n",
    "**End the while loop** when user enters any non-digit(s) for `guess`, like \"q\".  \n",
    "- Print `correct` and `wrong` values within a message to the user.\n",
    "- Close the pi file."
   ]
  },
  {
   "cell_type": "code",
   "execution_count": null,
   "metadata": {
    "collapsed": false
   },
   "outputs": [],
   "source": [
    "\n",
    "while guess.isdigit():\n",
    "    if digit == \".\":\n",
    "        digit = pi.read(1)\n",
    "    elif digit == \"\\n\":\n",
    "        seed += 1\n",
    "        pi.seek(seed)\n",
    "        digit = pi.read(1)\n",
    "    else:\n",
    "        if int(guess) == int(digit):\n",
    "            print(guess, \"is correct\")\n",
    "            correct += 1\n",
    "        else:\n",
    "            print(\"Sorry, number is\", digit, \"not\", guess)\n",
    "            wrong += 1\n",
    "    guess = input(\"enter another digit guess or \\\"q\\\": \")\n",
    "    digit = pi.read(1)\n",
    "    \n",
    "print(\"\\nThanks for playing\\nNumber Correct:\", correct, \"\\nNumber Incorrect:\", wrong)\n",
    "pi.close()"
   ]
  },
  {
   "cell_type": "code",
   "execution_count": null,
   "metadata": {
    "collapsed": true
   },
   "outputs": [],
   "source": []
  },
  {
   "cell_type": "markdown",
   "metadata": {
    "collapsed": true
   },
   "source": [
    "[Terms of use](http://go.microsoft.com/fwlink/?LinkID=206977) &nbsp; [Privacy & cookies](https://go.microsoft.com/fwlink/?LinkId=521839) &nbsp; © 2017 Microsoft"
   ]
  }
 ],
 "metadata": {
  "anaconda-cloud": {},
  "kernelspec": {
   "display_name": "Python 3",
   "language": "python",
   "name": "python3"
  },
  "language_info": {
   "codemirror_mode": {
    "name": "ipython",
    "version": 3
   },
   "file_extension": ".py",
   "mimetype": "text/x-python",
   "name": "python",
   "nbconvert_exporter": "python",
   "pygments_lexer": "ipython3",
   "version": "3.8.13"
  },
  "vscode": {
   "interpreter": {
    "hash": "9ac03a0a6051494cc606d484d27d20fce22fb7b4d169f583271e11d5ba46a56e"
   }
  }
 },
 "nbformat": 4,
 "nbformat_minor": 1
}
