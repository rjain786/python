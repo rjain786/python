{
 "cells": [
  {
   "cell_type": "markdown",
   "metadata": {},
   "source": [
    "# Section 4.2\n",
    "## File .readlines() and .close() Methods\n",
    "- File Read as a list with `.readlines()`\n",
    "- File Closing to free resources with `.close()`\n",
    "\n",
    "----- \n",
    "\n",
    "### Student will be able to\n",
    "- Use `.readlines()` to read text from files as a list of lines\n",
    "- Use `.close` to free system resources"
   ]
  },
  {
   "cell_type": "markdown",
   "metadata": {},
   "source": [
    "## Concept: `.readlines()`\n",
    "[![view video](https://iajupyterprodblobs.blob.core.windows.net/imagecontainer/common/play_video.png)]( http://edxinteractivepage.blob.core.windows.net/edxpages/f7cff1a7-5601-48a1-95a6-fd1fdfabd20e.html?details=[{\"src\":\"http://jupyternootbookwams.streaming.mediaservices.windows.net/0cd43d02-5eac-40b5-ba2d-97f078415ddd/Unit2_Section4.2a-Readlines-Open_Text_as_List.ism/manifest\",\"type\":\"application/vnd.ms-sstr+xml\"}],[{\"src\":\"http://jupyternootbookwams.streaming.mediaservices.windows.net/0cd43d02-5eac-40b5-ba2d-97f078415ddd/Unit2_Section4.2a-Readlines-Open_Text_as_List.vtt\",\"srclang\":\"en\",\"kind\":\"subtitles\",\"label\":\"english\"}])\n",
    "\n",
    "### File read as a list with .readlines() \n",
    "Converts the lines of a file into a **list** of strings.\n",
    "\n",
    "```python\n",
    "poem_lines = poem1.readlines()\n",
    "```"
   ]
  },
  {
   "cell_type": "markdown",
   "metadata": {},
   "source": [
    "### Examples"
   ]
  },
  {
   "cell_type": "code",
   "execution_count": 1,
   "metadata": {
    "collapsed": false,
    "scrolled": false
   },
   "outputs": [
    {
     "name": "stdout",
     "output_type": "stream",
     "text": [
      "  % Total    % Received % Xferd  Average Speed   Time    Time     Time  Current\n",
      "                                 Dload  Upload   Total   Spent    Left  Speed\n",
      "100    56  100    56    0     0   1806      0 --:--:-- --:--:-- --:--:--  1806\n"
     ]
    }
   ],
   "source": [
    "# [ ] Run to download file to notebook\n",
    "!curl https://raw.githubusercontent.com/MicrosoftLearning/intropython/master/poem1.txt -o poem1.txt"
   ]
  },
  {
   "cell_type": "code",
   "execution_count": 2,
   "metadata": {
    "collapsed": false
   },
   "outputs": [
    {
     "data": {
      "text/plain": [
       "['Loops I repeat\\n',\n",
       " 'loops\\n',\n",
       " 'loops\\n',\n",
       " 'loops\\n',\n",
       " 'I repeat\\n',\n",
       " 'until I\\n',\n",
       " 'break\\n']"
      ]
     },
     "execution_count": 2,
     "metadata": {},
     "output_type": "execute_result"
    }
   ],
   "source": [
    "# [ ] review and run example\n",
    "# open address to file\n",
    "poem1 = open('poem1.txt', 'r')\n",
    "\n",
    "# readlines and print as a list\n",
    "poem_lines = poem1.readlines()\n",
    "poem_lines"
   ]
  },
  {
   "cell_type": "code",
   "execution_count": 3,
   "metadata": {
    "collapsed": false
   },
   "outputs": [
    {
     "name": "stdout",
     "output_type": "stream",
     "text": [
      "Loops I repeat\n",
      "\n",
      "loops\n",
      "\n",
      "loops\n",
      "\n",
      "loops\n",
      "\n",
      "I repeat\n",
      "\n",
      "until I\n",
      "\n",
      "break\n",
      "\n"
     ]
    }
   ],
   "source": [
    "# [ ] review and run example\n",
    "for line in poem_lines:\n",
    "    print(line)"
   ]
  },
  {
   "cell_type": "markdown",
   "metadata": {
    "collapsed": true
   },
   "source": [
    "## Task 1: `.readlines()` \n",
    "### Open the cities file as a list\n",
    "1. **Import a list of cities using curl**  \n",
    "  a. Git the list from https://raw.githubusercontent.com/MicrosoftLearning/intropython/master/cities  \n",
    "  b. Name the list cities.txt  \n",
    "2. **Open cities.txt in read mode using a variable: cities_file**  \n",
    "3. **Read cities_file as a list variable: cities_lines using `.readlines()`**\n",
    "4. **Print each line of cities_lines by iterating the list**"
   ]
  },
  {
   "cell_type": "code",
   "execution_count": 4,
   "metadata": {
    "collapsed": false
   },
   "outputs": [
    {
     "name": "stdout",
     "output_type": "stream",
     "text": [
      "  % Total    % Received % Xferd  Average Speed   Time    Time     Time  Current\n",
      "                                 Dload  Upload   Total   Spent    Left  Speed\n",
      "100    56  100    56    0     0   2000      0 --:--:-- --:--:-- --:--:--  2074\n"
     ]
    }
   ],
   "source": [
    "# [ ] import cities\n",
    "!curl https://raw.githubusercontent.com/MicrosoftLearning/intropython/master/cities -o cities.txt"
   ]
  },
  {
   "cell_type": "code",
   "execution_count": 8,
   "metadata": {
    "collapsed": false
   },
   "outputs": [
    {
     "data": {
      "text/plain": [
       "['Beijing\\n',\n",
       " 'Cairo\\n',\n",
       " 'London\\n',\n",
       " 'Nairobi\\n',\n",
       " 'New York City\\n',\n",
       " 'Sydney\\n',\n",
       " 'Tokyo\\n']"
      ]
     },
     "execution_count": 8,
     "metadata": {},
     "output_type": "execute_result"
    }
   ],
   "source": [
    "# [ ] open cities.txt as cities_file and read the file as a list: cities_lines\n",
    "cities_file = open(\"cities.txt\", \"r\")\n",
    "cities_lines = cities_file.readlines()\n",
    "cities_lines"
   ]
  },
  {
   "cell_type": "code",
   "execution_count": 9,
   "metadata": {
    "collapsed": false
   },
   "outputs": [
    {
     "name": "stdout",
     "output_type": "stream",
     "text": [
      "Beijing\n",
      "\n",
      "Cairo\n",
      "\n",
      "London\n",
      "\n",
      "Nairobi\n",
      "\n",
      "New York City\n",
      "\n",
      "Sydney\n",
      "\n",
      "Tokyo\n",
      "\n"
     ]
    }
   ],
   "source": [
    "# [ ] use list iteration to print each city in cities_lines list\n",
    "for line in cities_lines:\n",
    "    print(line)"
   ]
  },
  {
   "cell_type": "markdown",
   "metadata": {},
   "source": [
    "## Concept: Working with lists from .readlines()\n",
    "[![view video](https://iajupyterprodblobs.blob.core.windows.net/imagecontainer/common/play_video.png)]( http://edxinteractivepage.blob.core.windows.net/edxpages/f7cff1a7-5601-48a1-95a6-fd1fdfabd20e.html?details=[{\"src\":\"http://jupyternootbookwams.streaming.mediaservices.windows.net/ed9b1523-6d69-462c-b18c-01e5423c1e52/Unit2_Section4.2b-Readlines-Remove_Characters.ism/manifest\",\"type\":\"application/vnd.ms-sstr+xml\"}],[{\"src\":\"http://jupyternootbookwams.streaming.mediaservices.windows.net/ed9b1523-6d69-462c-b18c-01e5423c1e52/Unit2_Section4.2b-Readlines-Remove_Characters.vtt\",\"srclang\":\"en\",\"kind\":\"subtitles\",\"label\":\"english\"}])\n",
    "###  Remove newline characters from lists created using .readlines()\n",
    "```python\n",
    "for line in poem_lines:\n",
    "    poem_lines[count] = line[:-1]\n",
    "    count += 1\n",
    "```\n",
    "**`line[:-1]`** sets the end point at the last character of the string, the result is the **`'\\n'`** (newline) character is omitted.\n",
    "\n",
    "| list item | list item contents | \n",
    "|-----|-----|\n",
    "| poem_lines[0] | 'Loops I repeat\\n' |  \n",
    "| poem_lines[1] | 'loops\\n' |  \n",
    "| poem_lines[2] | 'loops\\n' | \n",
    "| poem_lines[3] | 'I repeat\\n' | \n",
    "|... | ... | "
   ]
  },
  {
   "cell_type": "markdown",
   "metadata": {},
   "source": [
    "### Examples\n",
    "Note: The examples assume that poem1.txt was imported in the first example above."
   ]
  },
  {
   "cell_type": "code",
   "execution_count": 10,
   "metadata": {
    "collapsed": false
   },
   "outputs": [
    {
     "name": "stdout",
     "output_type": "stream",
     "text": [
      "['Loops I repeat\\n', 'loops\\n', 'loops\\n', 'loops\\n', 'I repeat\\n', 'until I\\n', 'break\\n']\n"
     ]
    }
   ],
   "source": [
    "# [ ] review and run examples\n",
    "# [ ] re-open file and read file as a list of strings\n",
    "poem1 = open('poem1.txt', 'r')\n",
    "poem_lines = poem1.readlines()\n",
    "print(poem_lines)"
   ]
  },
  {
   "cell_type": "code",
   "execution_count": 11,
   "metadata": {
    "collapsed": false
   },
   "outputs": [
    {
     "name": "stdout",
     "output_type": "stream",
     "text": [
      "Loops I repeat\n",
      "\n",
      "loops\n",
      "\n",
      "loops\n",
      "\n",
      "loops\n",
      "\n",
      "I repeat\n",
      "\n",
      "until I\n",
      "\n",
      "break\n",
      "\n"
     ]
    }
   ],
   "source": [
    "# [ ] print each list item \n",
    "for line in poem_lines:\n",
    "    print(line)"
   ]
  },
  {
   "cell_type": "code",
   "execution_count": 12,
   "metadata": {
    "collapsed": false
   },
   "outputs": [
    {
     "name": "stdout",
     "output_type": "stream",
     "text": [
      "['Loops I repeat', 'loops', 'loops', 'loops', 'I repeat', 'until I', 'break']\n"
     ]
    }
   ],
   "source": [
    "# [ ] remove the last character of each list item, which is \"\\n\"\n",
    "count = 0\n",
    "\n",
    "for line in poem_lines:\n",
    "    poem_lines[count] = line[:-1]\n",
    "    count += 1\n",
    "\n",
    "print(poem_lines)"
   ]
  },
  {
   "cell_type": "code",
   "execution_count": 14,
   "metadata": {
    "collapsed": false
   },
   "outputs": [
    {
     "name": "stdout",
     "output_type": "stream",
     "text": [
      "Loops I repeat\n",
      "loops\n",
      "loops\n",
      "loops\n",
      "I repeat\n",
      "until I\n",
      "break\n"
     ]
    }
   ],
   "source": [
    "# [ ] print each list item \n",
    "for line in poem_lines:\n",
    "    print(line)"
   ]
  },
  {
   "cell_type": "markdown",
   "metadata": {
    "collapsed": true
   },
   "source": [
    "## Task 2: Remove newline characters from cities lists created using .readlines()\n",
    "- This task assumes that cites.txt has been imported in Task 1 above\n",
    "- In Task 1, the cities were printed with a blank line between each city - this task removes the blank lines\n"
   ]
  },
  {
   "cell_type": "code",
   "execution_count": 13,
   "metadata": {},
   "outputs": [
    {
     "name": "stdout",
     "output_type": "stream",
     "text": [
      "  % Total    % Received % Xferd  Average Speed   Time    Time     Time  Current\n",
      "                                 Dload  Upload   Total   Spent    Left  Speed\n",
      "100    56  100    56    0     0    299      0 --:--:-- --:--:-- --:--:--   299\n"
     ]
    }
   ],
   "source": [
    "!curl https://raw.githubusercontent.com/MicrosoftLearning/intropython/master/cities -o cities.txt"
   ]
  },
  {
   "cell_type": "code",
   "execution_count": 16,
   "metadata": {
    "collapsed": false
   },
   "outputs": [
    {
     "data": {
      "text/plain": [
       "['Beijing\\n',\n",
       " 'Cairo\\n',\n",
       " 'London\\n',\n",
       " 'Nairobi\\n',\n",
       " 'New York City\\n',\n",
       " 'Sydney\\n',\n",
       " 'Tokyo\\n']"
      ]
     },
     "execution_count": 16,
     "metadata": {},
     "output_type": "execute_result"
    }
   ],
   "source": [
    "# [ ] re-open file and read file as a list of strings \n",
    "# [ ] open cities.txt as cities_file and read the file as a list: cities_lines\n",
    "cities_file = open(\"cities.txt\", \"r\")\n",
    "cities_lines = cities_file.readlines()\n",
    "cities_lines"
   ]
  },
  {
   "cell_type": "code",
   "execution_count": 17,
   "metadata": {},
   "outputs": [
    {
     "name": "stdout",
     "output_type": "stream",
     "text": [
      "Beijing\n",
      "\n",
      "Cairo\n",
      "\n",
      "London\n",
      "\n",
      "Nairobi\n",
      "\n",
      "New York City\n",
      "\n",
      "Sydney\n",
      "\n",
      "Tokyo\n",
      "\n"
     ]
    }
   ],
   "source": [
    "for line in cities_lines:\n",
    "    print(line)"
   ]
  },
  {
   "cell_type": "code",
   "execution_count": 18,
   "metadata": {
    "collapsed": false
   },
   "outputs": [
    {
     "name": "stdout",
     "output_type": "stream",
     "text": [
      "['Beijing', 'Cairo', 'London', 'Nairobi', 'New York City', 'Sydney', 'Tokyo']\n"
     ]
    }
   ],
   "source": [
    "# [ ] remove the last character, \"\\n\", of each cities_lines list item \n",
    "count = 0\n",
    "\n",
    "for line in cities_lines:\n",
    "    cities_lines[count] = line[:-1]\n",
    "    count += 1\n",
    "\n",
    "print(cities_lines)"
   ]
  },
  {
   "cell_type": "code",
   "execution_count": 19,
   "metadata": {
    "collapsed": false
   },
   "outputs": [
    {
     "name": "stdout",
     "output_type": "stream",
     "text": [
      "Beijing\n",
      "Cairo\n",
      "London\n",
      "Nairobi\n",
      "New York City\n",
      "Sydney\n",
      "Tokyo\n"
     ]
    }
   ],
   "source": [
    "# [ ] print each list item in cities_lines\n",
    "for line in cities_lines:\n",
    "    print(line)"
   ]
  },
  {
   "cell_type": "markdown",
   "metadata": {},
   "source": [
    "## Concept: `.close()`\n",
    "[![view video](https://iajupyterprodblobs.blob.core.windows.net/imagecontainer/common/play_video.png)]( http://edxinteractivepage.blob.core.windows.net/edxpages/f7cff1a7-5601-48a1-95a6-fd1fdfabd20e.html?details=[{\"src\":\"http://jupyternootbookwams.streaming.mediaservices.windows.net/50a925e8-25e2-4bfa-936b-e2d181af36f0/Unit2_Section4.2c-File_Close_Method.ism/manifest\",\"type\":\"application/vnd.ms-sstr+xml\"}],[{\"src\":\"http://jupyternootbookwams.streaming.mediaservices.windows.net/50a925e8-25e2-4bfa-936b-e2d181af36f0/Unit2_Section4.2c-File_Close_Method.vtt\",\"srclang\":\"en\",\"kind\":\"subtitles\",\"label\":\"english\"}])\n",
    "### File .close() method frees resources \n",
    "The file.close() method removes the reference created by the file open() function. \n",
    "\n",
    "```python  \n",
    "poem1.close()\n",
    "```  "
   ]
  },
  {
   "cell_type": "markdown",
   "metadata": {},
   "source": [
    "### Examples  \n",
    "Note: The examples assume that poem1.txt was imported in the first example above."
   ]
  },
  {
   "cell_type": "code",
   "execution_count": 2,
   "metadata": {
    "collapsed": false
   },
   "outputs": [],
   "source": [
    "# [ ] review and run example: open and readlines of poem1.txt\n",
    "poem1 = open('poem1.txt', 'r')"
   ]
  },
  {
   "cell_type": "code",
   "execution_count": 3,
   "metadata": {
    "collapsed": false
   },
   "outputs": [
    {
     "name": "stdout",
     "output_type": "stream",
     "text": [
      "['Loops I repeat\\n', 'loops\\n', 'loops\\n', 'loops\\n', 'I repeat\\n', 'until I\\n', 'break\\n']\n"
     ]
    }
   ],
   "source": [
    "# [ ] review and run example: readlines breaks if file is no longer open\n",
    "\n",
    "poem_lines = poem1.readlines()\n",
    "print(poem_lines)"
   ]
  },
  {
   "cell_type": "code",
   "execution_count": 5,
   "metadata": {
    "collapsed": false
   },
   "outputs": [],
   "source": [
    "# [ ] review and run example: Close poem1\n",
    "poem1.close()"
   ]
  },
  {
   "cell_type": "markdown",
   "metadata": {
    "collapsed": true
   },
   "source": [
    "## Task 3: File .close() \n",
    "Write each item in its own cell.\n",
    "- Open cities.txt as cities_file  \n",
    "- Read the lines as cities_lines\n",
    "- Print the cities that **start with the letter \"D\" or greater**  \n",
    "- Close cities_file\n",
    "- Test that file is closed"
   ]
  },
  {
   "cell_type": "code",
   "execution_count": 29,
   "metadata": {
    "collapsed": false
   },
   "outputs": [
    {
     "data": {
      "text/plain": [
       "<_io.TextIOWrapper name='cities.txt' mode='r' encoding='UTF-8'>"
      ]
     },
     "execution_count": 29,
     "metadata": {},
     "output_type": "execute_result"
    }
   ],
   "source": [
    "# [ ] open cities.txt as cities_file\n",
    "cities_file = open(\"cities.txt\", \"r\")\n",
    "cities_file"
   ]
  },
  {
   "cell_type": "code",
   "execution_count": 30,
   "metadata": {
    "collapsed": false
   },
   "outputs": [
    {
     "name": "stdout",
     "output_type": "stream",
     "text": [
      "['Beijing\\n', 'Cairo\\n', 'London\\n', 'Nairobi\\n', 'New York City\\n', 'Sydney\\n', 'Tokyo\\n']\n"
     ]
    }
   ],
   "source": [
    "# [ ] read the lines as cities_lines\n",
    "cities_lines = cities_file.readlines()\n",
    "print(cities_lines)"
   ]
  },
  {
   "cell_type": "code",
   "execution_count": 36,
   "metadata": {
    "collapsed": false
   },
   "outputs": [
    {
     "name": "stdout",
     "output_type": "stream",
     "text": [
      "London\n",
      "\n",
      "Nairobi\n",
      "\n",
      "New York City\n",
      "\n",
      "Sydney\n",
      "\n",
      "Tokyo\n",
      "\n"
     ]
    }
   ],
   "source": [
    "# [ ] print the cities that start with the letter \"D\" or greater\n",
    "for letter in cities_lines:\n",
    "    if letter[0] >= \"D\":\n",
    "        print(letter)"
   ]
  },
  {
   "cell_type": "code",
   "execution_count": 44,
   "metadata": {
    "collapsed": false
   },
   "outputs": [],
   "source": [
    "# [ ] test that file is closed\n",
    "cities_file.close()"
   ]
  },
  {
   "cell_type": "code",
   "execution_count": 42,
   "metadata": {
    "collapsed": false
   },
   "outputs": [],
   "source": [
    "# [ ] close cities_file\n",
    "cities_file.close()"
   ]
  },
  {
   "cell_type": "markdown",
   "metadata": {
    "collapsed": true
   },
   "source": [
    "## Task 4: readlines() poem2  \n",
    "Write each item in its own cell.\n",
    "- Import https://raw.githubusercontent.com/MicrosoftLearning/intropython/master/poem2.txt as poem2.txt  \n",
    "- Open poem2.txt as poem2_file in read mode\n",
    "- Create a list of strings, called poem2_lines, from each line of poem2_text (use **.readlines()**)  \n",
    "- Remove the newline character for each list item in poem2_lines  \n",
    "- Print the poem2 lines in reverse order  "
   ]
  },
  {
   "cell_type": "code",
   "execution_count": 43,
   "metadata": {
    "collapsed": false
   },
   "outputs": [
    {
     "name": "stdout",
     "output_type": "stream",
     "text": [
      "  % Total    % Received % Xferd  Average Speed   Time    Time     Time  Current\n",
      "                                 Dload  Upload   Total   Spent    Left  Speed\n",
      "100    57  100    57    0     0    268      0 --:--:-- --:--:-- --:--:--   267\n"
     ]
    }
   ],
   "source": [
    "# [ ] import https://raw.githubusercontent.com/MicrosoftLearning/intropython/master/poem2.txt as poem2.txt\n",
    "!curl https://raw.githubusercontent.com/MicrosoftLearning/intropython/master/poem2.txt -o poem2.txt"
   ]
  },
  {
   "cell_type": "code",
   "execution_count": 47,
   "metadata": {
    "collapsed": false
   },
   "outputs": [
    {
     "data": {
      "text/plain": [
       "<_io.TextIOWrapper name='poem2.txt' mode='r' encoding='UTF-8'>"
      ]
     },
     "execution_count": 47,
     "metadata": {},
     "output_type": "execute_result"
    }
   ],
   "source": [
    "# [ ] open poem2.txt as poem2_text in read mode\n",
    "poem2_text = open(\"poem2.txt\", \"r\")\n",
    "poem2_text"
   ]
  },
  {
   "cell_type": "code",
   "execution_count": 53,
   "metadata": {},
   "outputs": [
    {
     "ename": "TypeError",
     "evalue": "'list' object is not callable",
     "output_type": "error",
     "traceback": [
      "\u001b[0;31m---------------------------------------------------------------------------\u001b[0m",
      "\u001b[0;31mTypeError\u001b[0m                                 Traceback (most recent call last)",
      "Cell \u001b[0;32mIn [53], line 2\u001b[0m\n\u001b[1;32m      1\u001b[0m poem2_lines \u001b[39m=\u001b[39m poem2_text\u001b[39m.\u001b[39mreadlines()\n\u001b[0;32m----> 2\u001b[0m poem2_lines()\n",
      "\u001b[0;31mTypeError\u001b[0m: 'list' object is not callable"
     ]
    }
   ],
   "source": [
    "poem2_lines = poem2_text.readlines()\n",
    "poem2_lines()"
   ]
  },
  {
   "cell_type": "code",
   "execution_count": 48,
   "metadata": {
    "collapsed": false
   },
   "outputs": [
    {
     "name": "stdout",
     "output_type": "stream",
     "text": [
      "while True\n",
      "\n",
      "I loop\n",
      "\n",
      "True\n",
      "\n",
      "loop\n",
      "\n",
      "True\n",
      "\n",
      "loop\n",
      "\n",
      "not True\n",
      "\n",
      "False\n",
      "\n",
      "end\n",
      "\n"
     ]
    }
   ],
   "source": [
    "# [ ] create a list of strings, called poem2_lines, from each line of poem2_text\n",
    "for line in poem2_text:\n",
    "    print(line)"
   ]
  },
  {
   "cell_type": "code",
   "execution_count": 50,
   "metadata": {
    "collapsed": false
   },
   "outputs": [
    {
     "ename": "NameError",
     "evalue": "name 'poem2_lines' is not defined",
     "output_type": "error",
     "traceback": [
      "\u001b[0;31m---------------------------------------------------------------------------\u001b[0m",
      "\u001b[0;31mNameError\u001b[0m                                 Traceback (most recent call last)",
      "Cell \u001b[0;32mIn [50], line 4\u001b[0m\n\u001b[1;32m      1\u001b[0m \u001b[39m# [ ] remove the newline character for each list item in poem2_lines\u001b[39;00m\n\u001b[1;32m      2\u001b[0m count \u001b[39m=\u001b[39m \u001b[39m0\u001b[39m\n\u001b[0;32m----> 4\u001b[0m \u001b[39mfor\u001b[39;00m line \u001b[39min\u001b[39;00m poem2_lines:\n\u001b[1;32m      5\u001b[0m     poem2_text[count] \u001b[39m=\u001b[39m line[:\u001b[39m-\u001b[39m\u001b[39m1\u001b[39m]\n\u001b[1;32m      6\u001b[0m     count \u001b[39m+\u001b[39m\u001b[39m=\u001b[39m \u001b[39m1\u001b[39m\n",
      "\u001b[0;31mNameError\u001b[0m: name 'poem2_lines' is not defined"
     ]
    }
   ],
   "source": [
    "# [ ] remove the newline character for each list item in poem2_lines\n",
    "count = 0\n",
    "\n",
    "for line in poem2_lines:\n",
    "    poem2_text[count] = line[:-1]\n",
    "    count += 1\n",
    "\n",
    "print(poem2_lines)"
   ]
  },
  {
   "cell_type": "code",
   "execution_count": null,
   "metadata": {
    "collapsed": false
   },
   "outputs": [],
   "source": [
    "# [ ] print the poem2 lines in reverse order\n",
    "\n"
   ]
  },
  {
   "cell_type": "markdown",
   "metadata": {
    "collapsed": false
   },
   "source": [
    "[Terms of use](http://go.microsoft.com/fwlink/?LinkID=206977) &nbsp; [Privacy & cookies](https://go.microsoft.com/fwlink/?LinkId=521839) &nbsp; © 2017 Microsoft"
   ]
  }
 ],
 "metadata": {
  "anaconda-cloud": {},
  "kernelspec": {
   "display_name": "Python 3",
   "language": "python",
   "name": "python3"
  },
  "language_info": {
   "codemirror_mode": {
    "name": "ipython",
    "version": 3
   },
   "file_extension": ".py",
   "mimetype": "text/x-python",
   "name": "python",
   "nbconvert_exporter": "python",
   "pygments_lexer": "ipython3",
   "version": "3.8.13"
  },
  "vscode": {
   "interpreter": {
    "hash": "110cc1dee26208153f2972f08a2ad52b6a56238dc66d48e87fb757ef2996db56"
   }
  }
 },
 "nbformat": 4,
 "nbformat_minor": 1
}
